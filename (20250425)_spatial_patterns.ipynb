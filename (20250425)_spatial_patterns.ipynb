{
 "cells": [
  {
   "cell_type": "markdown",
   "metadata": {
    "colab": {
     "base_uri": "https://localhost:8080/"
    },
    "id": "o0TYxM-SsRmH",
    "outputId": "bdf0d826-7b77-4d67-9c6e-b8d4c761400b"
   },
   "source": [
    "# Analyzing Spatial Patterns\n",
    "\n",
    "---------------------------\n",
    "\n",
    "In this practice session, you will learn how to apply basic **spatial analysis** techniques to inspect socioeconomic and environmental patterns in the Netherlands. The major technical step, *Inspecting Spatial Autocorrelation with the Moran's I Index*, will walk you step-by-step through the application of the Moran's I in detecting interesting clustered patterns in your spatial dataset, especially about that referred as the *hotspot* analysis. The data you will be working on is from the Dutch statistical bureau (Centraal Bureau voor de Statistiek, CBS), where you can be able to download socioeconomic information about the entire Netherlands with geospatial information attached. All the information is at different geographic levels, for instance, neighborhood, district and city level. Here in this session, we start with the city (gemeente) level for quick demonstration, but please feel free to download more detailed data from CBS.nl. We specifically look at the housing property value (WOZ) as an important indicator of social wellbeing and weathiness at the city level, and try to see how it manifested in space. Again, you are free to use other information contained in the same dataset, and please also refer to the mete data (PDF) for the meaning of the abbreviated data code.\n",
    "\n",
    "For this session, we especially rely on the *libpysal* module, which is a very powerful *Python* tool for **spatial analysis**. It is also the backends of a few famous open source software, such as the [*Geoda*](https://geodacenter.github.io/workbook/5a_global_auto/lab5a.html#morans-i).\n",
    "\n",
    "The content is adapted from: [The official open source PySAL online examples](https://pysal.org/notebooks/viz/splot/esda_morans_viz.html)"
   ]
  },
  {
   "cell_type": "markdown",
   "metadata": {},
   "source": [
    "## Inspecting Spatial Autocorrelation with the Moran's I Index\n",
    "\n",
    "### 0. Import necessary modules"
   ]
  },
  {
   "cell_type": "code",
   "execution_count": null,
   "metadata": {},
   "outputs": [],
   "source": [
    "import matplotlib.pyplot as plt\n",
    "import numpy as np\n",
    "import pandas as pd\n",
    "import geopandas as gpd\n",
    "import os\n",
    "! pip install splot\n",
    "import splot\n",
    "from ipywidgets import IntSlider\n",
    "from IPython.display import display\n",
    "from libpysal.weights import Queen, Rook, KNN\n",
    "from splot.libpysal import plot_spatial_weights\n",
    "from libpysal.weights import W, full\n",
    "from esda.moran import Moran\n",
    "from splot.esda import moran_scatterplot, plot_moran, lisa_cluster, plot_local_autocorrelation\n"
   ]
  },
  {
   "cell_type": "markdown",
   "metadata": {},
   "source": [
    "### 1. Load and visualize the data"
   ]
  },
  {
   "cell_type": "code",
   "execution_count": null,
   "metadata": {},
   "outputs": [],
   "source": [
    "# Download data by cloning the data on Github to our Colab workspace\n",
    "\n",
    "!git clone https://github.com/jonwangio/test_spatial_analysis"
   ]
  },
  {
   "cell_type": "code",
   "execution_count": null,
   "metadata": {
    "colab": {
     "base_uri": "https://localhost:8080/"
    },
    "id": "pAiS8frdsUWu",
    "outputId": "7c45eb60-267d-422a-c524-2f11935c413b"
   },
   "outputs": [],
   "source": [
    "# As you can see, it is a *.shp file with attributes\n",
    "\n",
    "ned = gpd.read_file('test_spatial_analysis/gemeente_2021.gpkg')"
   ]
  },
  {
   "cell_type": "code",
   "execution_count": null,
   "metadata": {},
   "outputs": [],
   "source": [
    "# Overview of the first few rows of the data as a table\n",
    "\n",
    "ned.head() "
   ]
  },
  {
   "cell_type": "code",
   "execution_count": null,
   "metadata": {},
   "outputs": [],
   "source": [
    "# Here, we look at the 'WOZ' data, it is a Dutch abbreviation of housing property values\n",
    "# The values are with unit of *1000 euro, hence, 357 means 357,000 euros\n",
    "\n",
    "ned['WOZ'].where(ned['WOZ']>0, 300, inplace=True)  # arbitrarily replace invalid values with a specified 300, do you have better ideas?\n",
    "\n",
    "# Visualize the WOZ as a map\n",
    "ax = ned.plot(ned['WOZ'], categorical=False, \n",
    "              legend=True, figsize=(10, 10), \n",
    "              cmap='GnBu', vmax=450, vmin=200, \n",
    "              legend_kwds={'shrink': 0.3})\n",
    "ax.set_axis_off()"
   ]
  },
  {
   "cell_type": "markdown",
   "metadata": {},
   "source": [
    "### 2. Spatial weights for spatial contiguity\n",
    "-------------------\n",
    "One important step for compute the Moran's I index for this area is to define the weights of the neighboring units for each spatial unit. The weights are normally defined according to the spatial contiguity between the spatial unit and its neighbors. In this case, each spatial unit is a city (gemeente), and its neighbors are simply those cities directly adjacent to it. Without knowing which of the neighbors are more related, the simplest way is to assign equal weights to all the adjcent neighbors. Normally, it is flexible to define spatial units further apart with a decreasing weights along distance, but how weights are decaying according to distance needs further modelling, as we already mentioned by using the variogram in Kriging."
   ]
  },
  {
   "cell_type": "code",
   "execution_count": null,
   "metadata": {},
   "outputs": [],
   "source": [
    "# There is a function from libpysal that can help us assign equal weights to adjacent neighbors\n",
    "# With the function that find K nearest neighbors (KNN), you will have a chance to define the number of neighbors K\n",
    "\n",
    "k = IntSlider(min=2, max=10, step=1, value=2)\n",
    "display(k)"
   ]
  },
  {
   "cell_type": "code",
   "execution_count": null,
   "metadata": {},
   "outputs": [],
   "source": [
    "# Extract the target values from the source data in the table above\n",
    "y = ned['WOZ'].values\n",
    "w = KNN.from_dataframe(ned, k=k.value)\n",
    "\n",
    "'''\n",
    "w = Queen.from_dataframe(ned)\n",
    "'''\n",
    "\n",
    "w.transform = 'r'\n",
    "\n",
    "# Visualize how the spatial contiguity are structured\n",
    "plot_spatial_weights(w, ned)\n",
    "plt.show()"
   ]
  },
  {
   "cell_type": "code",
   "execution_count": null,
   "metadata": {},
   "outputs": [],
   "source": [
    "# What does this mean?\n",
    "\n",
    "w.weights[5]"
   ]
  },
  {
   "cell_type": "code",
   "execution_count": null,
   "metadata": {},
   "outputs": [],
   "source": [
    "# We can also visualize the weights for all the elements as a matrix, and plot the matrix as a graph\n",
    "\n",
    "wf, ids = full(w)\n",
    "plt.imshow(wf, cmap='jet', vmax=0.2)"
   ]
  },
  {
   "cell_type": "markdown",
   "metadata": {},
   "source": [
    "### 3. The Moran's I index\n",
    "----------------------\n",
    "Both the global and local Moran's I will be computed. Specifically, the local Moran's I can further be related to the *hotspot* analysis as showing particular association between low and high values in your study area."
   ]
  },
  {
   "cell_type": "code",
   "execution_count": null,
   "metadata": {
    "colab": {
     "base_uri": "https://localhost:8080/"
    },
    "id": "3q6PBG3KsUY9",
    "outputId": "89c78d07-6b29-4dda-c947-df2ab7d497fd"
   },
   "outputs": [],
   "source": [
    "# Once the weights and data values are ready, the Moran's I can be obtained easily with matrix product\n",
    "# But here, we still rely on a existing tool to help us, which is the 'esda' module and has good online documentation\n",
    "\n",
    "moran = Moran(y, w)\n",
    "moran.I"
   ]
  },
  {
   "cell_type": "code",
   "execution_count": null,
   "metadata": {
    "colab": {
     "base_uri": "https://localhost:8080/",
     "height": 287
    },
    "id": "eLgkF0KHsUbT",
    "outputId": "48f0d5c9-e51f-4706-b58d-c43c2b316f94"
   },
   "outputs": [],
   "source": [
    "# As mentioned in the class, the Moran's I can be viewed as the correlation between the value of the target spatial unit and \n",
    "# those of its neighbors, hence, we can of course visualize it in such a way.\n",
    "\n",
    "# Plot target value against its weighted neighbors\n",
    "fig, ax = moran_scatterplot(moran, aspect_equal=True)\n",
    "plt.show()"
   ]
  },
  {
   "cell_type": "code",
   "execution_count": null,
   "metadata": {},
   "outputs": [],
   "source": []
  },
  {
   "cell_type": "code",
   "execution_count": null,
   "metadata": {},
   "outputs": [],
   "source": []
  },
  {
   "cell_type": "code",
   "execution_count": null,
   "metadata": {},
   "outputs": [],
   "source": []
  },
  {
   "cell_type": "code",
   "execution_count": null,
   "metadata": {},
   "outputs": [],
   "source": []
  }
 ],
 "metadata": {
  "colab": {
   "provenance": []
  },
  "kernelspec": {
   "display_name": "Python 3 (ipykernel)",
   "language": "python",
   "name": "python3"
  },
  "language_info": {
   "codemirror_mode": {
    "name": "ipython",
    "version": 3
   },
   "file_extension": ".py",
   "mimetype": "text/x-python",
   "name": "python",
   "nbconvert_exporter": "python",
   "pygments_lexer": "ipython3",
   "version": "3.8.16"
  }
 },
 "nbformat": 4,
 "nbformat_minor": 1
}
